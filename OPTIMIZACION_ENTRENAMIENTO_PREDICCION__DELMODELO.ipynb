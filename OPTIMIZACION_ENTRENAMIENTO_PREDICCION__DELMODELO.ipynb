{
 "cells": [
  {
   "cell_type": "markdown",
   "metadata": {
    "id": "SEq6ciovmv3f"
   },
   "source": [
    "En este cuarderno optimizo el modelo elegido (XGBoost) y realizo el entrenamiento y la predicción con la combinación de valores de hiperparámetros recomendada por la optimización. En primer lugar importo alguna de las librerías necesarias:"
   ]
  },
  {
   "cell_type": "code",
   "execution_count": null,
   "metadata": {
    "id": "t_NZRWUODw5Q"
   },
   "outputs": [],
   "source": [
    "import pandas as pd\n",
    "import numpy as np\n",
    "import matplotlib.pyplot as plt\n",
    "from xgboost import XGBClassifier\n",
    "import xgboost\n",
    "from sklearn.model_selection import train_test_split"
   ]
  },
  {
   "cell_type": "markdown",
   "metadata": {
    "id": "1YM966jETMG1"
   },
   "source": [
    "Cargo el dataset que ofrece la competición (esta forma de de subirlo se debe a que este es un notebook de Google Colaboratory)."
   ]
  },
  {
   "cell_type": "code",
   "execution_count": null,
   "metadata": {
    "colab": {
     "base_uri": "https://localhost:8080/",
     "height": 73,
     "resources": {
      "http://localhost:8080/nbextensions/google.colab/files.js": {
       "data": "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",
       "headers": [
        [
         "content-type",
         "application/javascript"
        ]
       ],
       "ok": true,
       "status": 200,
       "status_text": ""
      }
     }
    },
    "id": "KFe8qg4GD4FC",
    "outputId": "b7ce7056-c246-44d7-b27a-cc9eedfc1bb4"
   },
   "outputs": [
    {
     "data": {
      "text/html": [
       "\n",
       "     <input type=\"file\" id=\"files-bb024bae-2020-4b51-b6eb-906c05c5f316\" name=\"files[]\" multiple disabled\n",
       "        style=\"border:none\" />\n",
       "     <output id=\"result-bb024bae-2020-4b51-b6eb-906c05c5f316\">\n",
       "      Upload widget is only available when the cell has been executed in the\n",
       "      current browser session. Please rerun this cell to enable.\n",
       "      </output>\n",
       "      <script src=\"/nbextensions/google.colab/files.js\"></script> "
      ],
      "text/plain": [
       "<IPython.core.display.HTML object>"
      ]
     },
     "metadata": {
      "tags": []
     },
     "output_type": "display_data"
    },
    {
     "name": "stdout",
     "output_type": "stream",
     "text": [
      "Saving data.csv to data.csv\n"
     ]
    }
   ],
   "source": [
    "from google.colab import files\n",
    "uploaded = files.upload()"
   ]
  },
  {
   "cell_type": "code",
   "execution_count": null,
   "metadata": {
    "id": "Xq5OoQNdETai"
   },
   "outputs": [],
   "source": [
    "import io\n",
    "\n",
    "kobe_df = pd.read_csv(io.StringIO(uploaded['data.csv'].decode('utf-8')))"
   ]
  },
  {
   "cell_type": "markdown",
   "metadata": {
    "id": "LLqolJexTW6T"
   },
   "source": [
    "Elimino aquellas variables que no voy a usar:"
   ]
  },
  {
   "cell_type": "code",
   "execution_count": null,
   "metadata": {
    "id": "NPbwV-oYj3xp"
   },
   "outputs": [],
   "source": [
    "kobe_df.drop(['game_event_id','game_id','team_id','team_name','game_date','lat', 'lon'], axis=1,\n",
    "                     inplace=True)"
   ]
  },
  {
   "cell_type": "markdown",
   "metadata": {
    "id": "Fgxz68d1WE7H"
   },
   "source": [
    "Creo una variable que indica si los registros de la variables shot_made_flag son NaNs o no NaNs. Con esta variable podré seleccionar posteriormente el conjunto de test y el conjunto de entrenamiento:"
   ]
  },
  {
   "cell_type": "code",
   "execution_count": null,
   "metadata": {
    "id": "cMS7LKbbE6S1"
   },
   "outputs": [],
   "source": [
    "shot_nan = kobe_df['shot_made_flag'].isnull()"
   ]
  },
  {
   "cell_type": "markdown",
   "metadata": {
    "id": "0du2cJ_7N2vA"
   },
   "source": [
    "### TRANSFORMACIÓN DE VARIABLES"
   ]
  },
  {
   "cell_type": "markdown",
   "metadata": {
    "id": "DXQKaW_BWLeH"
   },
   "source": [
    "Transformo las variables seleccionadas para que reflejen lo observado en el análisis exploratorio. Realizo las mismas transformaciones que en el cuaderno \"SELECCIÓN DE CARACTERÍSTICAS Y DE MODELO\"."
   ]
  },
  {
   "cell_type": "markdown",
   "metadata": {
    "id": "8T57EfYTWCCJ"
   },
   "source": [
    "Transformo shot_distance de manera que aquellos valores superiores a 45 pies entreN dentro de un mismo valor (45), debido a que existen pocos registros superiores a este valor:"
   ]
  },
  {
   "cell_type": "code",
   "execution_count": null,
   "metadata": {
    "id": "hjAGpHELNydf"
   },
   "outputs": [],
   "source": [
    "kobe_df['shot_distance'] = kobe_df.apply(lambda row: row['shot_distance']  if row['shot_distance']<45\\\n",
    "                                             else 45, axis=1)"
   ]
  },
  {
   "cell_type": "markdown",
   "metadata": {
    "id": "1mzuoMuFrQH3"
   },
   "source": [
    "Creo una nueva variable, donde se refleje  si el equipo de Kobe era visitante (@/0) o residente (vs/1), ya que estos datos parecen ser relevantes según el análisis exploratorio:"
   ]
  },
  {
   "cell_type": "code",
   "execution_count": null,
   "metadata": {
    "id": "nnTFVdN0NygT"
   },
   "outputs": [],
   "source": [
    "kobe_df['transformed_matchup'] = kobe_df.apply(lambda row: 0 if '@' in row['matchup'] else 1, axis=1 )"
   ]
  },
  {
   "cell_type": "code",
   "execution_count": null,
   "metadata": {
    "id": "JSnktlCZNyjV"
   },
   "outputs": [],
   "source": [
    "kobe_df = kobe_df.drop('matchup', axis=1) #Borro 'matchup' ya que no me será de más relevancia."
   ]
  },
  {
   "cell_type": "markdown",
   "metadata": {
    "id": "0KmX6fbfsR_2"
   },
   "source": [
    "Transformo la variable action_type. Para ello, primero creo una variable donde aparece la ocurrencia de cada categoría de action_type en el dataset:"
   ]
  },
  {
   "cell_type": "code",
   "execution_count": null,
   "metadata": {
    "id": "mHrIbkicOwCB"
   },
   "outputs": [],
   "source": [
    "action_count = kobe_df['action_type'].value_counts()"
   ]
  },
  {
   "cell_type": "markdown",
   "metadata": {
    "id": "OkTR8jXjsw2m"
   },
   "source": [
    "Posteriormente, modifico la variable para que aparezcan las categorías de action_type con registros en el dataset superiores a 150, mientras que aquellas categorías con menos de 150 registros serán sustituidas por una categoría global llamada 'other'. Utilizo en el proceso la variable 'action_counts', antes definida:"
   ]
  },
  {
   "cell_type": "code",
   "execution_count": null,
   "metadata": {
    "id": "6nNYcJmIOwMG"
   },
   "outputs": [],
   "source": [
    "kobe_df['action_type'] = kobe_df.apply(lambda row:row['action_type'] if action_count[row['action_type']]>150\\\n",
    "                                             else 'other', axis=1)"
   ]
  },
  {
   "cell_type": "markdown",
   "metadata": {
    "id": "6d_wSjVqt2Y5"
   },
   "source": [
    "Ya que minutes_remaining se refiere a los últimos 11 minutos del periodo y seconds_remaining al último periodo de este, creo una variable donde se resuma y condense esta información, donde aparezcan los doce minutos del último periodo:"
   ]
  },
  {
   "cell_type": "code",
   "execution_count": null,
   "metadata": {
    "id": "DtYYvMDbO4qo"
   },
   "outputs": [],
   "source": [
    "kobe_df['time_remaining'] = kobe_df.apply(lambda row: row['minutes_remaining'] * 60 + row['seconds_remaining'], axis=1)"
   ]
  },
  {
   "cell_type": "markdown",
   "metadata": {
    "id": "HaafQwtGTqZ7"
   },
   "source": [
    "### SELECCIÓN DE VARIABLES"
   ]
  },
  {
   "cell_type": "markdown",
   "metadata": {
    "id": "uHyJP8FgTzey"
   },
   "source": [
    "Aplico la selección ya llevada a cabo en el cuaderno \"SELECCIÓN DE CARACTERÍSTICAS Y DE MODELO\":"
   ]
  },
  {
   "cell_type": "code",
   "execution_count": null,
   "metadata": {
    "id": "XhBMrnz3M_Op"
   },
   "outputs": [],
   "source": [
    "kobe_df = kobe_df[['action_type', 'combined_shot_type','loc_y', 'season', 'shot_distance', \n",
    "                'shot_zone_area','shot_zone_range', 'transformed_matchup','shot_id',  #incluyo shot_id porque posteriormente se usará para identificar los disparos del\n",
    "                'time_remaining','shot_made_flag']]                                   #conjunto de test."
   ]
  },
  {
   "cell_type": "markdown",
   "metadata": {
    "id": "gfyxcxihvJdB"
   },
   "source": [
    "Dumifico las variables categóricas. Así, tal y como dice el trabajo escrito, obtendré mejores resultados que con la codificación nominal"
   ]
  },
  {
   "cell_type": "code",
   "execution_count": null,
   "metadata": {
    "id": "XPwPW5hTPSe4"
   },
   "outputs": [],
   "source": [
    "features = ['action_type', 'combined_shot_type', 'season', \n",
    "            'shot_zone_area','shot_zone_range', 'transformed_matchup'] # Lista de variables categóricas.\n",
    "\n",
    "kobe = kobe_df[['loc_y','shot_distance','time_remaining']] # Dataset con las variables cuantitativas\n",
    "\n",
    "for f in features: #Bucle que dumifica cada variable categórica y las une con las variables cuantitativas.\n",
    "    \n",
    "    kobe = pd.concat([kobe,pd.get_dummies(kobe_df[f], prefix=f)],axis=1)"
   ]
  },
  {
   "cell_type": "markdown",
   "metadata": {
    "id": "AziPBVP3UL8V"
   },
   "source": [
    "### OPTIMIZACIÓN"
   ]
  },
  {
   "cell_type": "markdown",
   "metadata": {
    "id": "aDMAcTtzXyui"
   },
   "source": [
    "La optimización se llevará a cabo mediante optimización Random Search."
   ]
  },
  {
   "cell_type": "markdown",
   "metadata": {
    "id": "GrUt07dkwpex"
   },
   "source": [
    "Selecciono los datos de **x** y los datos de** y** que se utilizarán en el proceso de optimización. Para ello selecciono los datos del conjunto de entrenamiento con shot_nan:"
   ]
  },
  {
   "cell_type": "code",
   "execution_count": null,
   "metadata": {
    "id": "lDAA7QsAPSn_"
   },
   "outputs": [],
   "source": [
    "x = kobe[~shot_nan] # Registros correspondientes a los valores no nulos de la variable shot_made_flag\n",
    "y = kobe_df['shot_made_flag'][~shot_nan] # Registros correspondientes a los valores no nulos de la variable shot_made_flag."
   ]
  },
  {
   "cell_type": "markdown",
   "metadata": {
    "id": "zcomIjEex9dD"
   },
   "source": [
    "Llamo al clasificador de XGBoost:"
   ]
  },
  {
   "cell_type": "code",
   "execution_count": null,
   "metadata": {
    "id": "pyQvR2qMwb5o"
   },
   "outputs": [],
   "source": [
    "xgb = xgboost.XGBClassifier() "
   ]
  },
  {
   "cell_type": "markdown",
   "metadata": {
    "id": "jjur6bkzyGGh"
   },
   "source": [
    "Divido entre train y validation con train_test_split (de scikit learn) para evitar sobreaprendizaje en proceso de optimización:"
   ]
  },
  {
   "cell_type": "code",
   "execution_count": null,
   "metadata": {
    "id": "0-H4qkj9wqPG"
   },
   "outputs": [],
   "source": [
    "x_train, x_val, y_train, y_val = train_test_split(x,y, test_size=0.1, random_state=1) #validation tendrá el 10% de los datos (test_size=1)."
   ]
  },
  {
   "cell_type": "markdown",
   "metadata": {
    "id": "fAQbQCCnhJfs"
   },
   "source": [
    "Establezco el espacio de  búsqueda y optimizo con Random Search, usando como estimador el xgboost:"
   ]
  },
  {
   "cell_type": "code",
   "execution_count": null,
   "metadata": {
    "colab": {
     "base_uri": "https://localhost:8080/",
     "height": 1000
    },
    "id": "nxG42yDiHWQq",
    "outputId": "85af34e9-c8ff-4f7f-884a-2fb3f9f991b1"
   },
   "outputs": [
    {
     "name": "stdout",
     "output_type": "stream",
     "text": [
      "[0]\tvalidation_0-logloss:0.679974\n",
      "Will train until validation_0-logloss hasn't improved in 5 rounds.\n",
      "[1]\tvalidation_0-logloss:0.669441\n",
      "[2]\tvalidation_0-logloss:0.660785\n",
      "[3]\tvalidation_0-logloss:0.654024\n",
      "[4]\tvalidation_0-logloss:0.647291\n",
      "[5]\tvalidation_0-logloss:0.641822\n",
      "[6]\tvalidation_0-logloss:0.637202\n",
      "[7]\tvalidation_0-logloss:0.633351\n",
      "[8]\tvalidation_0-logloss:0.630141\n",
      "[9]\tvalidation_0-logloss:0.627066\n",
      "[10]\tvalidation_0-logloss:0.624025\n",
      "[11]\tvalidation_0-logloss:0.622041\n",
      "[12]\tvalidation_0-logloss:0.620171\n",
      "[13]\tvalidation_0-logloss:0.618345\n",
      "[14]\tvalidation_0-logloss:0.616783\n",
      "[15]\tvalidation_0-logloss:0.615596\n",
      "[16]\tvalidation_0-logloss:0.614265\n",
      "[17]\tvalidation_0-logloss:0.613005\n",
      "[18]\tvalidation_0-logloss:0.612215\n",
      "[19]\tvalidation_0-logloss:0.611258\n",
      "[20]\tvalidation_0-logloss:0.610511\n",
      "[21]\tvalidation_0-logloss:0.609837\n",
      "[22]\tvalidation_0-logloss:0.609065\n",
      "[23]\tvalidation_0-logloss:0.608365\n",
      "[24]\tvalidation_0-logloss:0.607986\n",
      "[25]\tvalidation_0-logloss:0.607708\n",
      "[26]\tvalidation_0-logloss:0.607369\n",
      "[27]\tvalidation_0-logloss:0.606892\n",
      "[28]\tvalidation_0-logloss:0.606458\n",
      "[29]\tvalidation_0-logloss:0.606081\n",
      "[30]\tvalidation_0-logloss:0.605869\n",
      "[31]\tvalidation_0-logloss:0.605611\n",
      "[32]\tvalidation_0-logloss:0.605308\n",
      "[33]\tvalidation_0-logloss:0.60508\n",
      "[34]\tvalidation_0-logloss:0.604816\n",
      "[35]\tvalidation_0-logloss:0.604537\n",
      "[36]\tvalidation_0-logloss:0.604417\n",
      "[37]\tvalidation_0-logloss:0.604249\n",
      "[38]\tvalidation_0-logloss:0.60405\n",
      "[39]\tvalidation_0-logloss:0.603838\n",
      "[40]\tvalidation_0-logloss:0.603688\n",
      "[41]\tvalidation_0-logloss:0.603479\n",
      "[42]\tvalidation_0-logloss:0.603439\n",
      "[43]\tvalidation_0-logloss:0.603359\n",
      "[44]\tvalidation_0-logloss:0.603223\n",
      "[45]\tvalidation_0-logloss:0.603209\n",
      "[46]\tvalidation_0-logloss:0.603096\n",
      "[47]\tvalidation_0-logloss:0.603059\n",
      "[48]\tvalidation_0-logloss:0.603189\n",
      "[49]\tvalidation_0-logloss:0.603152\n",
      "[50]\tvalidation_0-logloss:0.603091\n",
      "[51]\tvalidation_0-logloss:0.60292\n",
      "[52]\tvalidation_0-logloss:0.602886\n",
      "[53]\tvalidation_0-logloss:0.602827\n",
      "[54]\tvalidation_0-logloss:0.602938\n",
      "[55]\tvalidation_0-logloss:0.603031\n",
      "[56]\tvalidation_0-logloss:0.602982\n",
      "[57]\tvalidation_0-logloss:0.602887\n",
      "[58]\tvalidation_0-logloss:0.602764\n",
      "[59]\tvalidation_0-logloss:0.602784\n",
      "[60]\tvalidation_0-logloss:0.602934\n",
      "[61]\tvalidation_0-logloss:0.602984\n",
      "[62]\tvalidation_0-logloss:0.60297\n",
      "[63]\tvalidation_0-logloss:0.603007\n",
      "Stopping. Best iteration:\n",
      "[58]\tvalidation_0-logloss:0.602764\n",
      "\n"
     ]
    },
    {
     "data": {
      "text/plain": [
       "XGBClassifier(base_score=0.5, booster='dart', colsample_bylevel=0.4,\n",
       "              colsample_bynode=1, colsample_bytree=0.9, gamma=0,\n",
       "              learning_rate=0.1, max_delta_step=0, max_depth=10,\n",
       "              min_child_weight=0.5, missing=None, n_estimators=400, n_jobs=1,\n",
       "              nthread=None, objective='binary:logistic', random_state=0,\n",
       "              reg_alpha=0, reg_lambda=50.0, scale_pos_weight=1, seed=None,\n",
       "              silent=None, subsample=0.8, verbosity=1)"
      ]
     },
     "execution_count": 22,
     "metadata": {
      "tags": []
     },
     "output_type": "execute_result"
    }
   ],
   "source": [
    "from sklearn.model_selection import RandomizedSearchCV #Importamos RandomizedSearchCV de Scikit learn, el optimizador Random Search de esta librería.\n",
    "from sklearn.metrics import accuracy_score\n",
    "\n",
    "#El espacio de búsqueda de la optimización:\n",
    "param= {'booster':['gbtree', 'dart'], #El tipo de booster a usar.\n",
    "        'max_depth': [6, 10, 15, 20], #Máxima profundidad de los árboles estimadores.\n",
    "        'learning_rate': [0.001, 0.01, 0.1, 0.2, 0,3], \n",
    "        'subsample': [0.5, 0.6, 0.7, 0.8, 0.9, 1.0], #Proporción de submuestra de las instancias de entrenamiento. Muestreo aleatorio antes de \"cultivar\" los árboles.\n",
    "        'colsample_bytree': [0.4, 0.5, 0.6, 0.7, 0.8, 0.9, 1.0], #Es la proporción de submuestras de columnas al construir cada árbol. El submuestreo ocurre una vez por cada árbol.\n",
    "        'colsample_bylevel': [0.4, 0.5, 0.6, 0.7, 0.8, 0.9, 1.0], #Es la proporción de submuestra de columnas para cada nivel. El submuestreo ocurre una vez por cada nuevo nivel de profundidad alcanzado en un árbol.\n",
    "        'min_child_weight': [0.5, 1.0, 3.0, 5.0, 7.0, 10.0], #Suma mínima de peso de instancia (hessian) necesaria en un hijo. Si el paso de partición del árbol da como resultado un nodo hoja con una suma de peso de instancia menor que min_child_weight, entonces el proceso de construcción abandonará la partición adicional.\n",
    "        'gamma': [0, 0.25, 0.5, 1.0], #Reducción de pérdida mínima requerida para realizar una partición adicional en un nodo hoja del árbol. Cuanto mayor sea la gamma, más conservador será el algoritmo.\n",
    "        'reg_lambda': [0.1, 1.0, 5.0, 10.0, 50.0, 100.0], #Término de regularización L2 sobre los pesos. Incrementar este valor hará el modelo más conservativo.\n",
    "        'n_estimators':[6, 20, 100, 150, 200, 400]} #nº de estimadores o árboles.\n",
    "\n",
    "\n",
    "\n",
    "random_class= RandomizedSearchCV(estimator = xgb, param_distributions = param, \n",
    "                                 n_iter = 180, cv = 5, random_state=0, n_jobs = -1) #Establezco los parámetros de la optimización\n",
    "\n",
    "\n",
    "eval_set=[(x_val,y_val)] #Llevar a cabo este paso es necesario para aplicar el early_stopping en la optimización, que evitará el sobreaprendizaje.\n",
    "\n",
    "#Ejecuto la optimización con el early stopping:\n",
    "\n",
    "random_class.fit(x_train, y_train, eval_set=eval_set, early_stopping_rounds=5, eval_metric='logloss', verbose=True) # early_stopping_round =5 ==>Si no se observa mejora se para en 5 vueltas/iteraciones.\n",
    "\n",
    "best_estimator= random_class.best_estimator_ # La mejor combinación de hiperparámetros hallada por la optimización.\n",
    "\n",
    "best_estimator"
   ]
  },
  {
   "cell_type": "code",
   "execution_count": null,
   "metadata": {
    "colab": {
     "base_uri": "https://localhost:8080/",
     "height": 134
    },
    "id": "0MCiPpS5o6Ck",
    "outputId": "503cbfc4-621f-420c-d174-1b7c7b7b684c"
   },
   "outputs": [
    {
     "data": {
      "text/plain": [
       "XGBClassifier(base_score=0.5, booster='dart', colsample_bylevel=0.4,\n",
       "              colsample_bynode=1, colsample_bytree=0.9, gamma=0,\n",
       "              learning_rate=0.1, max_delta_step=0, max_depth=10,\n",
       "              min_child_weight=0.5, missing=None, n_estimators=400, n_jobs=1,\n",
       "              nthread=None, objective='binary:logistic', random_state=0,\n",
       "              reg_alpha=0, reg_lambda=50.0, scale_pos_weight=1, seed=None,\n",
       "              silent=None, subsample=0.8, verbosity=1)"
      ]
     },
     "execution_count": 23,
     "metadata": {
      "tags": []
     },
     "output_type": "execute_result"
    }
   ],
   "source": [
    "best_estimator #Aquí vemos los hiperparámetros del mejor estimador hallado por la optimización de Random Search."
   ]
  },
  {
   "cell_type": "markdown",
   "metadata": {
    "id": "x7PkXRGoV0ol"
   },
   "source": [
    "### ENTRENAMIENTO Y PREDICCIÓN"
   ]
  },
  {
   "cell_type": "markdown",
   "metadata": {
    "id": "ohaZS6IPV5f7"
   },
   "source": [
    "Con el mejor estimador hallado en la optimización entreno, predigo y envío los resultados a la competición:"
   ]
  },
  {
   "cell_type": "code",
   "execution_count": null,
   "metadata": {
    "colab": {
     "base_uri": "https://localhost:8080/",
     "height": 1000
    },
    "id": "x_c4VyHWxura",
    "outputId": "49ebaae5-03a7-42ec-d865-a71f2566a9ba"
   },
   "outputs": [
    {
     "name": "stdout",
     "output_type": "stream",
     "text": [
      "[0]\tvalidation_0-logloss:0.679974\n",
      "Will train until validation_0-logloss hasn't improved in 5 rounds.\n",
      "[1]\tvalidation_0-logloss:0.669441\n",
      "[2]\tvalidation_0-logloss:0.660785\n",
      "[3]\tvalidation_0-logloss:0.654024\n",
      "[4]\tvalidation_0-logloss:0.647291\n",
      "[5]\tvalidation_0-logloss:0.641822\n",
      "[6]\tvalidation_0-logloss:0.637202\n",
      "[7]\tvalidation_0-logloss:0.633351\n",
      "[8]\tvalidation_0-logloss:0.630141\n",
      "[9]\tvalidation_0-logloss:0.627066\n",
      "[10]\tvalidation_0-logloss:0.624025\n",
      "[11]\tvalidation_0-logloss:0.622041\n",
      "[12]\tvalidation_0-logloss:0.620171\n",
      "[13]\tvalidation_0-logloss:0.618345\n",
      "[14]\tvalidation_0-logloss:0.616783\n",
      "[15]\tvalidation_0-logloss:0.615596\n",
      "[16]\tvalidation_0-logloss:0.614265\n",
      "[17]\tvalidation_0-logloss:0.613005\n",
      "[18]\tvalidation_0-logloss:0.612215\n",
      "[19]\tvalidation_0-logloss:0.611258\n",
      "[20]\tvalidation_0-logloss:0.610511\n",
      "[21]\tvalidation_0-logloss:0.609837\n",
      "[22]\tvalidation_0-logloss:0.609065\n",
      "[23]\tvalidation_0-logloss:0.608365\n",
      "[24]\tvalidation_0-logloss:0.607986\n",
      "[25]\tvalidation_0-logloss:0.607708\n",
      "[26]\tvalidation_0-logloss:0.607369\n",
      "[27]\tvalidation_0-logloss:0.606892\n",
      "[28]\tvalidation_0-logloss:0.606458\n",
      "[29]\tvalidation_0-logloss:0.606081\n",
      "[30]\tvalidation_0-logloss:0.605869\n",
      "[31]\tvalidation_0-logloss:0.605611\n",
      "[32]\tvalidation_0-logloss:0.605308\n",
      "[33]\tvalidation_0-logloss:0.60508\n",
      "[34]\tvalidation_0-logloss:0.604816\n",
      "[35]\tvalidation_0-logloss:0.604537\n",
      "[36]\tvalidation_0-logloss:0.604417\n",
      "[37]\tvalidation_0-logloss:0.604249\n",
      "[38]\tvalidation_0-logloss:0.60405\n",
      "[39]\tvalidation_0-logloss:0.603838\n",
      "[40]\tvalidation_0-logloss:0.603688\n",
      "[41]\tvalidation_0-logloss:0.603479\n",
      "[42]\tvalidation_0-logloss:0.603439\n",
      "[43]\tvalidation_0-logloss:0.603359\n",
      "[44]\tvalidation_0-logloss:0.603223\n",
      "[45]\tvalidation_0-logloss:0.603209\n",
      "[46]\tvalidation_0-logloss:0.603096\n",
      "[47]\tvalidation_0-logloss:0.603059\n",
      "[48]\tvalidation_0-logloss:0.603189\n",
      "[49]\tvalidation_0-logloss:0.603152\n",
      "[50]\tvalidation_0-logloss:0.603091\n",
      "[51]\tvalidation_0-logloss:0.60292\n",
      "[52]\tvalidation_0-logloss:0.602886\n",
      "[53]\tvalidation_0-logloss:0.602827\n",
      "[54]\tvalidation_0-logloss:0.602938\n",
      "[55]\tvalidation_0-logloss:0.603031\n",
      "[56]\tvalidation_0-logloss:0.602982\n",
      "[57]\tvalidation_0-logloss:0.602887\n",
      "[58]\tvalidation_0-logloss:0.602764\n",
      "[59]\tvalidation_0-logloss:0.602784\n",
      "[60]\tvalidation_0-logloss:0.602934\n",
      "[61]\tvalidation_0-logloss:0.602984\n",
      "[62]\tvalidation_0-logloss:0.60297\n",
      "[63]\tvalidation_0-logloss:0.603007\n",
      "Stopping. Best iteration:\n",
      "[58]\tvalidation_0-logloss:0.602764\n",
      "\n"
     ]
    },
    {
     "data": {
      "text/plain": [
       "XGBClassifier(base_score=0.5, booster='dart', colsample_bylevel=0.4,\n",
       "              colsample_bynode=1, colsample_bytree=0.9, gamma=0,\n",
       "              learning_rate=0.1, max_delta_step=0, max_depth=10,\n",
       "              min_child_weight=0.5, missing=None, n_estimators=400, n_jobs=1,\n",
       "              nthread=None, objective='binary:logistic', random_state=0,\n",
       "              reg_alpha=0, reg_lambda=50.0, scale_pos_weight=1, seed=None,\n",
       "              silent=None, subsample=0.8, verbosity=1)"
      ]
     },
     "execution_count": 24,
     "metadata": {
      "tags": []
     },
     "output_type": "execute_result"
    }
   ],
   "source": [
    "eval_set=[(x_val,y_val)]\n",
    "best_estimator.fit(x_train, y_train, eval_set=eval_set, early_stopping_rounds=5, eval_metric='logloss', verbose=True) #Con el mejor estimador entreno."
   ]
  },
  {
   "cell_type": "markdown",
   "metadata": {
    "id": "koJFOB3-i2VC"
   },
   "source": [
    "Predigo con el conjunto de test marcado en la competición:\n"
   ]
  },
  {
   "cell_type": "code",
   "execution_count": null,
   "metadata": {
    "id": "8jRCJWoPHgiG"
   },
   "outputs": [],
   "source": [
    "test = kobe[shot_nan] # Registros correspondientes a valores nulos de la variable shot_made_flag.\n",
    "pred = best_estimator.predict_proba(test)[:,1] # Predigo la probabilidad de que un caso sea éxito de tiro a canasta\n",
    "                                               # en términos de probabilidad.\n",
    "shot_id = kobe_df['shot_id'][shot_nan]\n",
    "submission = pd.DataFrame({\"shot_id\":shot_id, \"shot_made_flag\":pred}) # Creo el dataset que se enviará a la competición.\n",
    "submission.sort_values('shot_id',  inplace=True) # Ordeno por id del tiro para que la competición de Kaggle pueda evaluar el modelo correctamente."
   ]
  },
  {
   "cell_type": "markdown",
   "metadata": {
    "id": "uTwjmC4P2Rkf"
   },
   "source": [
    "### PREPARACIÓN DEL RESULTADO DE LA CLASIFICACIÓN PARA ENVIAR"
   ]
  },
  {
   "cell_type": "markdown",
   "metadata": {
    "id": "5ixoUPsFYfiF"
   },
   "source": [
    "Preparo el archivo que será enviado a la competición:"
   ]
  },
  {
   "cell_type": "code",
   "execution_count": null,
   "metadata": {
    "colab": {
     "base_uri": "https://localhost:8080/",
     "height": 121
    },
    "id": "B3GBRYyD0wsr",
    "outputId": "f76f17d7-fc28-476a-dbfc-dafbeb15666a"
   },
   "outputs": [
    {
     "name": "stdout",
     "output_type": "stream",
     "text": [
      "Go to this URL in a browser: https://accounts.google.com/o/oauth2/auth?client_id=947318989803-6bn6qk8qdgf4n4g3pfee6491hc0brc4i.apps.googleusercontent.com&redirect_uri=urn%3aietf%3awg%3aoauth%3a2.0%3aoob&scope=email%20https%3a%2f%2fwww.googleapis.com%2fauth%2fdocs.test%20https%3a%2f%2fwww.googleapis.com%2fauth%2fdrive%20https%3a%2f%2fwww.googleapis.com%2fauth%2fdrive.photos.readonly%20https%3a%2f%2fwww.googleapis.com%2fauth%2fpeopleapi.readonly&response_type=code\n",
      "\n",
      "Enter your authorization code:\n",
      "··········\n",
      "Mounted at drive\n"
     ]
    }
   ],
   "source": [
    "from google.colab import drive\n",
    "drive.mount('drive')"
   ]
  },
  {
   "cell_type": "markdown",
   "metadata": {
    "id": "OSwftC7L2cD0"
   },
   "source": [
    "Creo el archivo csv que enviaré a la competición:"
   ]
  },
  {
   "cell_type": "code",
   "execution_count": null,
   "metadata": {
    "id": "L36UG7ZL1-KT"
   },
   "outputs": [],
   "source": [
    "submission.to_csv(\"file_xgboost_sinlocx.csv\",index=False) # Este modelo da un log loss=0.60365, puesto superior al 301 de 1117 en la competición.\n",
    "!cp file_xgboost_sinlocx.csv \"drive/My Drive/\" #guardo la predicción realizada en un csv para enviarlo a la competición."
   ]
  }
 ],
 "metadata": {
  "colab": {
   "collapsed_sections": [],
   "name": "OPTIMIZACIÓN_ENTRENAMIENTO_PREDICCIÓN _DELMODELO.ipynb",
   "provenance": []
  },
  "kernelspec": {
   "display_name": "Python 3",
   "language": "python",
   "name": "python3"
  },
  "language_info": {
   "codemirror_mode": {
    "name": "ipython",
    "version": 3
   },
   "file_extension": ".py",
   "mimetype": "text/x-python",
   "name": "python",
   "nbconvert_exporter": "python",
   "pygments_lexer": "ipython3",
   "version": "3.8.3"
  }
 },
 "nbformat": 4,
 "nbformat_minor": 1
}
